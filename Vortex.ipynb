{
 "cells": [
  {
   "cell_type": "code",
   "execution_count": 1,
   "id": "therapeutic-limitation",
   "metadata": {},
   "outputs": [
    {
     "name": "stdout",
     "output_type": "stream",
     "text": [
      "320\n",
      "Successfully loaded project Test_Crop!\n",
      "loading annotations into memory...\n",
      "Done (t=0.04s)\n",
      "creating index...\n",
      "index created!\n",
      "\n",
      "EfficientTrack Configuration:\n",
      "Use suggested Bounding Box size of 320 pixels? (yes/no)\n",
      "y\n",
      "loading annotations into memory...\n",
      "Done (t=0.05s)\n",
      "creating index...\n",
      "index created!\n",
      "\n",
      "Vortex Configuration:\n",
      "Use suggested 3D Bounding Box size of 208 mm? (yes/no)\n",
      "y\n",
      "Use suggested grid spacing of 2 mm? (yes/no)\n",
      "y\n",
      "Use suggested x-Axis Grid Dimension of [-206, 172] mm? (yes/no)\n",
      "y\n",
      "Use suggested y-Axis Grid Dimension of [-270, 352] mm? (yes/no)\n",
      "y\n",
      "Use suggested z-Axis Grid Dimension of [316, 832] mm? (yes/no)\n",
      "y\n"
     ]
    }
   ],
   "source": [
    "import os\n",
    "\n",
    "import numpy as np\n",
    "import torch\n",
    "from lib.config import cfg\n",
    "\n",
    "import lib.dataset.dataset3D as dataUtils\n",
    "from lib.vortex.vortex import Vortex\n",
    "from lib.config.project_manager import ProjectManager\n",
    "\n",
    "project = ProjectManager()\n",
    "project.load('Test_Crop')\n",
    "\n",
    "#project.create_new(\n",
    "#    name = 'Test_Crop',\n",
    "#    dataset2D_path = '/home/trackingsetup/Documents/CombinedDataset/DatasetColleen',\n",
    "#    dataset3D_path = '/home/trackingsetup/Documents/CombinedDataset/DatasetColleen')\n",
    "\n",
    "cfg = project.get_cfg()"
   ]
  },
  {
   "cell_type": "code",
   "execution_count": 2,
   "id": "revised-singer",
   "metadata": {},
   "outputs": [
    {
     "name": "stdout",
     "output_type": "stream",
     "text": [
      "loading annotations into memory...\n",
      "Done (t=0.06s)\n",
      "creating index...\n",
      "index created!\n",
      "loading annotations into memory...\n",
      "Done (t=0.00s)\n",
      "creating index...\n",
      "index created!\n"
     ]
    }
   ],
   "source": [
    "training_set = dataUtils.VortexDataset3D(cfg, set='train')\n",
    "val_set = dataUtils.VortexDataset3D(cfg, set='val')\n",
    "calibPaths = [training_set.coco.dataset['calibration']['intrinsics'], \n",
    "              training_set.coco.dataset['calibration']['extrinsics']]"
   ]
  },
  {
   "cell_type": "code",
   "execution_count": 8,
   "id": "incorporated-spencer",
   "metadata": {},
   "outputs": [
    {
     "name": "stdout",
     "output_type": "stream",
     "text": [
      "projects/Test_Crop/lookup.npy\n",
      "[Info] loaded weights: Vortex-d_30.pth\n"
     ]
    }
   ],
   "source": [
    "weights = '/home/timo/Desktop/VoRTEx/projects/Test/models/vortex/Run_20210705-185157/Vortex-d_30.pth'\n",
    "\n",
    "efficienttrack_weights = '/home/timo/Desktop/VoRTEx/projects/Test/models/efficienttrack/EfficientTrack-d3_80_171153.pth'\n",
    "\n",
    "vortexNet = Vortex('train', cfg, calibPaths, weights, None)"
   ]
  },
  {
   "cell_type": "code",
   "execution_count": 5,
   "id": "insured-chick",
   "metadata": {},
   "outputs": [
    {
     "ename": "NameError",
     "evalue": "name 'vortexNet' is not defined",
     "output_type": "error",
     "traceback": [
      "\u001b[0;31m---------------------------------------------------------------------------\u001b[0m",
      "\u001b[0;31mNameError\u001b[0m                                 Traceback (most recent call last)",
      "\u001b[0;32m<ipython-input-5-4f8ca829a711>\u001b[0m in \u001b[0;36m<module>\u001b[0;34m\u001b[0m\n\u001b[0;32m----> 1\u001b[0;31m \u001b[0mvortexNet\u001b[0m\u001b[0;34m.\u001b[0m\u001b[0mtrain\u001b[0m\u001b[0;34m(\u001b[0m\u001b[0mtraining_set\u001b[0m\u001b[0;34m,\u001b[0m \u001b[0mval_set\u001b[0m\u001b[0;34m,\u001b[0m \u001b[0;36m1000\u001b[0m\u001b[0;34m)\u001b[0m\u001b[0;34m\u001b[0m\u001b[0;34m\u001b[0m\u001b[0m\n\u001b[0m",
      "\u001b[0;31mNameError\u001b[0m: name 'vortexNet' is not defined"
     ]
    }
   ],
   "source": [
    "vortexNet.train(training_set, val_set, 1000)"
   ]
  }
 ],
 "metadata": {
  "kernelspec": {
   "display_name": "Python 3",
   "language": "python",
   "name": "python3"
  },
  "language_info": {
   "codemirror_mode": {
    "name": "ipython",
    "version": 3
   },
   "file_extension": ".py",
   "mimetype": "text/x-python",
   "name": "python",
   "nbconvert_exporter": "python",
   "pygments_lexer": "ipython3",
   "version": "3.9.4"
  }
 },
 "nbformat": 4,
 "nbformat_minor": 5
}
