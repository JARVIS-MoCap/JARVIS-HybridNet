{
 "cells": [
  {
   "cell_type": "code",
   "execution_count": null,
   "id": "therapeutic-limitation",
   "metadata": {},
   "outputs": [],
   "source": [
    "import os\n",
    "\n",
    "import numpy as np\n",
    "import torch\n",
    "from lib.config import cfg\n",
    "\n",
    "import lib.dataset.dataset3D as dataUtils\n",
    "from lib.vortex.vortex import Vortex\n",
    "from lib.config.project_manager import ProjectManager\n",
    "\n",
    "project = ProjectManager()\n",
    "project.load('Ralph_All3D')\n",
    "\n",
    "#project.create_new(\n",
    "#    name = 'Ralph_All3D',\n",
    "#    dataset2D_path = '/home/trackingsetup/Documents/Ralph_All',\n",
    "#    dataset3D_path = '/home/trackingsetup/Documents/Ralph_All')\n",
    "\n",
    "cfg = project.get_cfg()"
   ]
  },
  {
   "cell_type": "code",
   "execution_count": null,
   "id": "revised-singer",
   "metadata": {},
   "outputs": [],
   "source": [
    "training_set = dataUtils.VortexDataset3D(cfg, set='train')\n",
    "val_set = dataUtils.VortexDataset3D(cfg, set='val')\n",
    "calibPaths = [training_set.coco.dataset['calibration']['intrinsics'], \n",
    "              training_set.coco.dataset['calibration']['extrinsics']]"
   ]
  },
  {
   "cell_type": "code",
   "execution_count": null,
   "id": "incorporated-spencer",
   "metadata": {},
   "outputs": [],
   "source": [
    "weights = '/home/trackingsetup/Documents/Vortex/projects/Ralph_All3D/models/vortex/Run_20210929-201946/Vortex-d_60.pth'\n",
    "\n",
    "efficienttrack_weights = '/home/trackingsetup/Documents/Vortex/projects/Ralph_All3D/models/efficienttrack/Run_20210929-163105/EfficientTrack-d2_40.pth'\n",
    "\n",
    "vortexNet = Vortex('train', cfg, calibPaths, weights, None)"
   ]
  },
  {
   "cell_type": "code",
   "execution_count": null,
   "id": "insured-chick",
   "metadata": {},
   "outputs": [],
   "source": [
    "vortexNet.train(training_set, val_set, 1000)"
   ]
  }
 ],
 "metadata": {
  "kernelspec": {
   "display_name": "Python 3",
   "language": "python",
   "name": "python3"
  },
  "language_info": {
   "codemirror_mode": {
    "name": "ipython",
    "version": 3
   },
   "file_extension": ".py",
   "mimetype": "text/x-python",
   "name": "python",
   "nbconvert_exporter": "python",
   "pygments_lexer": "ipython3",
   "version": "3.9.4"
  }
 },
 "nbformat": 4,
 "nbformat_minor": 5
}
