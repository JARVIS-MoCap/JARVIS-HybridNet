{
 "cells": [
  {
   "cell_type": "code",
   "execution_count": null,
   "id": "therapeutic-limitation",
   "metadata": {},
   "outputs": [],
   "source": [
    "import os\n",
    "\n",
    "import numpy as np\n",
    "import torch\n",
    "\n",
    "from lib.dataset.dataset2D import VortexDataset2D\n",
    "from lib.vortex.modules.efficientdet.efficientdet import EfficientDet \n",
    "from lib.config.project_manager import ProjectManager\n",
    "\n",
    "project = ProjectManager()\n",
    "project.load('Test_Crop')\n",
    "\n",
    "#project.create_new(\n",
    "#    name = 'Test_Crop',\n",
    "#    dataset2D_path = '/home/timo/Documents/CombinedDataset',\n",
    "#    dataset3D_path = None)\n",
    "\n",
    "cfg = project.get_cfg()"
   ]
  },
  {
   "cell_type": "code",
   "execution_count": 2,
   "id": "revised-singer",
   "metadata": {},
   "outputs": [
    {
     "name": "stdout",
     "output_type": "stream",
     "text": [
      "loading annotations into memory...\n",
      "Done (t=0.04s)\n",
      "creating index...\n",
      "index created!\n",
      "/home/timo/Desktop/VoRTEx/datasets/Combined_Dataset/train/Colleen_03032021_Cara/Object_16/Camera_T/Frame_58043.jpg\n",
      "loading annotations into memory...\n",
      "Done (t=0.00s)\n",
      "creating index...\n",
      "index created!\n",
      "/home/timo/Desktop/VoRTEx/datasets/Combined_Dataset/val/Colleen_03032021_Cara/Object_16/Camera_T/Frame_59682.jpg\n"
     ]
    }
   ],
   "source": [
    "training_set = VortexDataset2D(cfg, set='train', mode = 'cropping')\n",
    "val_set = VortexDataset2D(cfg, set='val', mode = 'cropping')"
   ]
  },
  {
   "cell_type": "code",
   "execution_count": null,
   "id": "incorporated-spencer",
   "metadata": {},
   "outputs": [],
   "source": [
    "efficientDet = EfficientDet('train', cfg, '/home/timo/Desktop/VoRTEx/projects/Test_Crop/models/efficientdet/Run_20210705-215016/efficientdet-d0_50.pth')"
   ]
  },
  {
   "cell_type": "code",
   "execution_count": null,
   "id": "insured-chick",
   "metadata": {},
   "outputs": [],
   "source": [
    "efficientDet.train(training_set, val_set, 100)"
   ]
  },
  {
   "cell_type": "code",
   "execution_count": 3,
   "id": "thousand-nursing",
   "metadata": {},
   "outputs": [
    {
     "name": "stdout",
     "output_type": "stream",
     "text": [
      "/home/timo/Desktop/VoRTEx/datasets/Combined_Dataset/val/Colleen_03032021_Cara/Object_8/Camera_B/Frame_31274.jpg\n",
      "[{'rois': array([[119.90513 , 119.505585, 143.52608 , 169.51566 ]], dtype=float32), 'class_ids': array([0]), 'scores': array([0.99771035], dtype=float32)}]\n",
      "(256, 256, 3) 2.6399999999999997\n",
      "0.025632143020629883\n",
      "599 521 718 770\n"
     ]
    }
   ],
   "source": [
    "import cv2\n",
    "import lib.vortex.modules.efficientdet.utils as utils\n",
    "efficientDet = EfficientDet('inference', cfg, '/home/timo/Desktop/VoRTEx/projects/Test_Crop/models/efficientdet/Run_20210705-215016/efficientdet-d0_50.pth')\n",
    "data = val_set.__getitem__(119)\n",
    "cv2.imshow('', data[0].numpy())\n",
    "cv2.waitKey(0)\n",
    "regression, classification, anchors = efficientDet.model(data[0].permute(2, 0, 1).view(1,3,256,256).cuda())\n",
    "regressBoxes = utils.BBoxTransform()\n",
    "clipBoxes = utils.ClipBoxes()\n",
    "threshold = 0.2\n",
    "iou_threshold = 0.2\n",
    "out = utils.postprocess(data[0].permute(2, 0, 1).view(1,3,256,256),\n",
    "                  anchors, regression, classification,\n",
    "                  regressBoxes, clipBoxes,\n",
    "                  threshold, iou_threshold)\n",
    "print (out)\n",
    "out_dict = efficientDet.predict_on_image('/home/timo/Desktop/VoRTEx/datasets/Combined_Dataset/val/Colleen_03032021_Cara/Object_8/Camera_B/Frame_31274.jpg')\n",
    "efficientDet.visualize_prediction(out_dict)"
   ]
  },
  {
   "cell_type": "code",
   "execution_count": null,
   "id": "strategic-synthesis",
   "metadata": {},
   "outputs": [],
   "source": [
    "\n",
    "print (cfg.DATASET.DATASET_2D)"
   ]
  }
 ],
 "metadata": {
  "kernelspec": {
   "display_name": "Python 3",
   "language": "python",
   "name": "python3"
  },
  "language_info": {
   "codemirror_mode": {
    "name": "ipython",
    "version": 3
   },
   "file_extension": ".py",
   "mimetype": "text/x-python",
   "name": "python",
   "nbconvert_exporter": "python",
   "pygments_lexer": "ipython3",
   "version": "3.8.5"
  }
 },
 "nbformat": 4,
 "nbformat_minor": 5
}
