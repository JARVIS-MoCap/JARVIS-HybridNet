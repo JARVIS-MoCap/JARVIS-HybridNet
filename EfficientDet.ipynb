{
 "cells": [
  {
   "cell_type": "code",
   "execution_count": 1,
   "id": "therapeutic-limitation",
   "metadata": {},
   "outputs": [],
   "source": [
    "import os\n",
    "\n",
    "import numpy as np\n",
    "import torch\n",
    "from torch.utils.data import DataLoader\n",
    "from lib.config import cfg\n",
    "from lib.config import update_config\n",
    "\n",
    "import lib.dataset.dataset as dataUtils\n",
    "from lib.vortex.modules.efficientdet.efficientdet import EfficientDet "
   ]
  },
  {
   "cell_type": "code",
   "execution_count": null,
   "id": "revised-singer",
   "metadata": {},
   "outputs": [],
   "source": [
    "training_params = {'batch_size': cfg.EFFICIENTDET.BATCH_SIZE,\n",
    "                   'shuffle': True,\n",
    "                   'drop_last': True,\n",
    "                   'collate_fn': dataUtils.collater_bbox,\n",
    "                   'num_workers': cfg.EFFICIENTDET.NUM_WORKERS,\n",
    "                   'pin_memory': False}\n",
    "\n",
    "val_params = {'batch_size': cfg.EFFICIENTDET.BATCH_SIZE,\n",
    "              'shuffle': False,\n",
    "              'drop_last': True,\n",
    "              'collate_fn': dataUtils.collater_bbox,\n",
    "              'num_workers': cfg.EFFICIENTDET.NUM_WORKERS,\n",
    "              'pin_memory': False}\n",
    "\n",
    "training_set = dataUtils.CocoDataset(cfg, set='train')\n",
    "val_set = dataUtils.CocoDataset(cfg, set='val')\n",
    "\n",
    "training_generator = DataLoader(training_set, **training_params)\n",
    "val_generator = DataLoader(val_set, **val_params)"
   ]
  },
  {
   "cell_type": "code",
   "execution_count": null,
   "id": "incorporated-spencer",
   "metadata": {},
   "outputs": [],
   "source": [
    "efficientDet = EfficientDet('train', cfg, None)"
   ]
  },
  {
   "cell_type": "code",
   "execution_count": null,
   "id": "insured-chick",
   "metadata": {},
   "outputs": [],
   "source": [
    "efficientDet.train(training_generator, val_generator, 100)"
   ]
  },
  {
   "cell_type": "code",
   "execution_count": 2,
   "id": "thousand-nursing",
   "metadata": {},
   "outputs": [
    {
     "name": "stdout",
     "output_type": "stream",
     "text": [
      "0.3352680206298828\n",
      "572 407 721 560\n"
     ]
    }
   ],
   "source": [
    "import cv2\n",
    "efficientDet = EfficientDet('inference', cfg, '/home/timo/Documents/Vortex/model_savefiles_combined/handPose_GN_2/efficientdet-d0_83_14112.pth')\n",
    "\n",
    "out_dict = efficientDet.predict_on_image('/home/timo/Documents/CombiNet/datasets/handPose3D/train/Object_0/Camera_T/Frame_2096.jpg')\n",
    "efficientDet.visualize_prediction(out_dict)"
   ]
  },
  {
   "cell_type": "code",
   "execution_count": null,
   "id": "strategic-synthesis",
   "metadata": {},
   "outputs": [],
   "source": [
    "efficientDet = EfficientDet('export', cfg, None)\n",
    "efficientDet.export_to_onnx('test.onnx', input_size = 256)\n"
   ]
  }
 ],
 "metadata": {
  "kernelspec": {
   "display_name": "Python 3",
   "language": "python",
   "name": "python3"
  },
  "language_info": {
   "codemirror_mode": {
    "name": "ipython",
    "version": 3
   },
   "file_extension": ".py",
   "mimetype": "text/x-python",
   "name": "python",
   "nbconvert_exporter": "python",
   "pygments_lexer": "ipython3",
   "version": "3.8.5"
  }
 },
 "nbformat": 4,
 "nbformat_minor": 5
}
