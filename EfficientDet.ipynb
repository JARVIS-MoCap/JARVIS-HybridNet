{
 "cells": [
  {
   "cell_type": "code",
   "execution_count": 1,
   "id": "therapeutic-limitation",
   "metadata": {},
   "outputs": [
    {
     "name": "stdout",
     "output_type": "stream",
     "text": [
      "384\n",
      "Successfully loaded project Coefficient_0!\n"
     ]
    }
   ],
   "source": [
    "import os\n",
    "\n",
    "import numpy as np\n",
    "import torch\n",
    "\n",
    "from lib.dataset.dataset2D import VortexDataset2D\n",
    "from lib.vortex.modules.efficientdet.efficientdet import EfficientDet \n",
    "from lib.config.project_manager import ProjectManager\n",
    "\n",
    "project = ProjectManager()\n",
    "project.load('Coefficient_0')\n",
    "\n",
    "#project.create_new(\n",
    "#    name = 'Test_Crop',\n",
    "#    dataset2D_path = '/home/timo/Documents/CombinedDataset',\n",
    "#    dataset3D_path = None)\n",
    "\n",
    "cfg = project.get_cfg()"
   ]
  },
  {
   "cell_type": "code",
   "execution_count": 2,
   "id": "revised-singer",
   "metadata": {},
   "outputs": [
    {
     "name": "stdout",
     "output_type": "stream",
     "text": [
      "loading annotations into memory...\n",
      "Done (t=0.26s)\n",
      "creating index...\n",
      "index created!\n",
      "loading annotations into memory...\n",
      "Done (t=0.01s)\n",
      "creating index...\n",
      "index created!\n"
     ]
    }
   ],
   "source": [
    "training_set = VortexDataset2D(cfg, set='train', mode = 'cropping')\n",
    "val_set = VortexDataset2D(cfg, set='val', mode = 'cropping')"
   ]
  },
  {
   "cell_type": "code",
   "execution_count": null,
   "id": "incorporated-spencer",
   "metadata": {},
   "outputs": [],
   "source": [
    "weights = '/home/trackingsetup/Documents/Vortex/projects/Ralph_Test3D/models/efficientdet/Run_20210828-144347/efficientdet-d0_190.pth'\n",
    "efficientDet = EfficientDet('train', cfg, None)"
   ]
  },
  {
   "cell_type": "code",
   "execution_count": null,
   "id": "insured-chick",
   "metadata": {},
   "outputs": [],
   "source": [
    "efficientDet.train(training_set, val_set, 200)"
   ]
  },
  {
   "cell_type": "code",
   "execution_count": 3,
   "id": "thousand-nursing",
   "metadata": {},
   "outputs": [
    {
     "name": "stdout",
     "output_type": "stream",
     "text": [
      "605 449 739 641\n"
     ]
    }
   ],
   "source": [
    "import cv2\n",
    "import lib.vortex.modules.efficientdet.utils as utils\n",
    "efficientDet = EfficientDet('inference', cfg, '/home/trackingsetup/Documents/Vortex/projects/Coefficient_0/models/efficientdet/Run_20211009-152053/efficientdet-d0_33.pth')\n",
    "\n",
    "out_dict = efficientDet.predict_on_image('/home/trackingsetup/Documents/Vortex/datasets/3D_12Cam/val/Colleen/AllenKey/Camera_B/Frame_85832.jpg')\n",
    "efficientDet.visualize_prediction(out_dict)"
   ]
  },
  {
   "cell_type": "code",
   "execution_count": null,
   "id": "strategic-synthesis",
   "metadata": {},
   "outputs": [],
   "source": [
    "\n",
    "print (cfg.DATASET.DATASET_2D)"
   ]
  }
 ],
 "metadata": {
  "kernelspec": {
   "display_name": "Python 3",
   "language": "python",
   "name": "python3"
  },
  "language_info": {
   "codemirror_mode": {
    "name": "ipython",
    "version": 3
   },
   "file_extension": ".py",
   "mimetype": "text/x-python",
   "name": "python",
   "nbconvert_exporter": "python",
   "pygments_lexer": "ipython3",
   "version": "3.9.4"
  }
 },
 "nbformat": 4,
 "nbformat_minor": 5
}
