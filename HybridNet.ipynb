{
 "cells": [
  {
   "cell_type": "code",
   "execution_count": null,
   "id": "5fac4d96",
   "metadata": {},
   "outputs": [],
   "source": [
    "import os\n",
    "\n",
    "import numpy as np\n",
    "import torch\n",
    "from jarvis.config import cfg\n",
    "\n",
    "from jarvis.dataset.dataset3D import Dataset3D\n",
    "from jarvis.hybridnet.hybridnet import HybridNet\n",
    "from jarvis.config.project_manager import ProjectManager\n",
    "\n",
    "project = ProjectManager()\n",
    "project.load('Example_Project')\n",
    "\n",
    "#project.create_new(\n",
    "#    name = 'Example_Project',\n",
    "#    dataset2D_path = 'Example_Dataset',\n",
    "#    dataset3D_path = 'Example_Dataset')\n",
    "\n",
    "cfg = project.get_cfg()"
   ]
  },
  {
   "cell_type": "code",
   "execution_count": null,
   "id": "56c2753c",
   "metadata": {},
   "outputs": [],
   "source": [
    "#Load the training and validation sets\n",
    "\n",
    "training_set = Dataset3D(cfg, set='train')\n",
    "val_set = Dataset3D(cfg, set='val')"
   ]
  },
  {
   "cell_type": "code",
   "execution_count": null,
   "id": "a4464ff6",
   "metadata": {},
   "outputs": [],
   "source": [
    "#Configuring the network for training\n",
    "\n",
    "weights = 'pretrained/Monkey_Example/HybridNet.pth'\n",
    "effTrack_weights = 'pretrained/Monkey_Example/EfficientTrack_Keypoints.pth'\n",
    "\n",
    "hybridNet = HybridNet('train', cfg, weights = weights, efficienttrack_weights = None)"
   ]
  },
  {
   "cell_type": "code",
   "execution_count": null,
   "id": "5e3c4f65",
   "metadata": {},
   "outputs": [],
   "source": [
    "#Train using '3D_only' first\n",
    "hybridNet.set_training_mode('3D_only')\n",
    "\n",
    "#Training the network for 50 epochs\n",
    "hybridNet.train(training_set, val_set, 50)"
   ]
  },
  {
   "cell_type": "code",
   "execution_count": null,
   "id": "9de628e8",
   "metadata": {},
   "outputs": [],
   "source": [
    "#Then switch to 'all' for finetuning\n",
    "hybridNet.set_training_mode('all')\n",
    "\n",
    "#Training the network for 50 epochs\n",
    "hybridNet.train(training_set, val_set, 50)"
   ]
  }
 ],
 "metadata": {
  "kernelspec": {
   "display_name": "Python 3 (ipykernel)",
   "language": "python",
   "name": "python3"
  },
  "language_info": {
   "codemirror_mode": {
    "name": "ipython",
    "version": 3
   },
   "file_extension": ".py",
   "mimetype": "text/x-python",
   "name": "python",
   "nbconvert_exporter": "python",
   "pygments_lexer": "ipython3",
   "version": "3.9.7"
  }
 },
 "nbformat": 4,
 "nbformat_minor": 5
}
