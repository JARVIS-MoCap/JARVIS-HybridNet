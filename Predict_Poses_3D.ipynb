{
 "cells": [
  {
   "cell_type": "code",
   "execution_count": null,
   "id": "810b7532",
   "metadata": {},
   "outputs": [],
   "source": [
    "import os\n",
    "\n",
    "import numpy as np\n",
    "import torch\n",
    "from lib.config import cfg\n",
    "\n",
    "import lib.dataset.dataset3D as dataUtils\n",
    "from lib.hybridnet.hybridnet import HybridNet\n",
    "from lib.hybridnet.efficienttrack.efficienttrack import EfficientTrack\n",
    "import lib.hybridnet.efficienttrack.darkpose as darkpose\n",
    "from lib.config.project_manager import ProjectManager\n",
    "\n",
    "project = ProjectManager()\n",
    "project.load('Example_Project')\n",
    "\n",
    "import os\n",
    "os.environ[\"CUDA_VISIBLE_DEVICES\"]=\"1\"\n",
    "\n",
    "cfg = project.get_cfg()"
   ]
  },
  {
   "cell_type": "code",
   "execution_count": null,
   "id": "f3d94e2e",
   "metadata": {},
   "outputs": [],
   "source": [
    "#Load datasets... currently still needed because they contain camera parameters etc\n",
    "\n",
    "training_set = dataUtils.Dataset3D(cfg, set='train')\n",
    "val_set = dataUtils.Dataset3D(cfg, set='val')"
   ]
  },
  {
   "cell_type": "code",
   "execution_count": null,
   "id": "963b0fc5",
   "metadata": {},
   "outputs": [],
   "source": [
    "#Load HybridNet in inference mode\n",
    "\n",
    "weightsHybridNet = 'pretrained/Monkey_Example/HybridNet.pth'\n",
    "\n",
    "hybridNet = HybridNet('inference', cfg, weightsHybridNet)"
   ]
  },
  {
   "cell_type": "code",
   "execution_count": null,
   "id": "2589da8e",
   "metadata": {},
   "outputs": [],
   "source": [
    "#load center detection network in inference mode\n",
    "\n",
    "weightsCenterDetect = 'pretrained/Monkey_Example/EfficientTrack_Center.pth'\n",
    "centerDetect = EfficientTrack('CenterDetectInference', cfg, weightsCenterDetect)"
   ]
  },
  {
   "cell_type": "code",
   "execution_count": null,
   "id": "2323fa70",
   "metadata": {},
   "outputs": [],
   "source": [
    "#Predict poses for recording and create labeled videos\n",
    "\n",
    "video_paths = [\n",
    "    'Example_Recording/Camera_B.mp4',\n",
    "    'Example_Recording/Camera_LBB.mp4',\n",
    "    'Example_Recording/Camera_LBT.mp4',\n",
    "    'Example_Recording/Camera_LC.mp4',\n",
    "    'Example_Recording/Camera_LFB.mp4',\n",
    "    'Example_Recording/Camera_LFT.mp4',\n",
    "    'Example_Recording/Camera_RBB.mp4',\n",
    "    'Example_Recording/Camera_RBT.mp4',\n",
    "    'Example_Recording/Camera_RC.mp4',\n",
    "    'Example_Recording/Camera_RFB.mp4',\n",
    "    'Example_Recording/Camera_RFT.mp4',\n",
    "    'Example_Recording/Camera_T.mp4', \n",
    "]\n",
    "\n",
    "\n",
    "reproTool = val_set.reproTools['12Cam_Ralph']\n",
    "hybridNet.predictPosesVideos(centerDetect, reproTool,video_paths, 'PosePredictions_3D', \n",
    "                             frameStart = 0, numberFrames = -1, skeletonPreset = \"Hand\")"
   ]
  }
 ],
 "metadata": {
  "kernelspec": {
   "display_name": "Python 3 (ipykernel)",
   "language": "python",
   "name": "python3"
  },
  "language_info": {
   "codemirror_mode": {
    "name": "ipython",
    "version": 3
   },
   "file_extension": ".py",
   "mimetype": "text/x-python",
   "name": "python",
   "nbconvert_exporter": "python",
   "pygments_lexer": "ipython3",
   "version": "3.8.10"
  }
 },
 "nbformat": 4,
 "nbformat_minor": 5
}
