{
 "cells": [
  {
   "cell_type": "code",
   "execution_count": null,
   "id": "810b7532",
   "metadata": {},
   "outputs": [],
   "source": [
    "import os\n",
    "import numpy as np\n",
    "import torch\n",
    "\n",
    "from lib.config import cfg\n",
    "from lib.hybridnet.hybridnet import HybridNet\n",
    "from lib.hybridnet.efficienttrack.efficienttrack import EfficientTrack\n",
    "from lib.config.project_manager import ProjectManager\n",
    "from lib.prediction.predict3D import predictPosesVideos, load_reprojection_tools\n",
    "\n",
    "project = ProjectManager()\n",
    "project.load('Example_Project')\n",
    "\n",
    "os.environ[\"CUDA_VISIBLE_DEVICES\"]=\"0\"\n",
    "\n",
    "cfg = project.get_cfg()"
   ]
  },
  {
   "cell_type": "code",
   "execution_count": null,
   "id": "963b0fc5",
   "metadata": {},
   "outputs": [],
   "source": [
    "#Load HybridNet in inference mode\n",
    "\n",
    "weightsHybridNet = 'pretrained/Monkey_Example/HybridNet.pth'\n",
    "hybridNet = HybridNet('inference', cfg, weightsHybridNet)"
   ]
  },
  {
   "cell_type": "code",
   "execution_count": null,
   "id": "2589da8e",
   "metadata": {},
   "outputs": [],
   "source": [
    "#load center detection network in inference mode\n",
    "\n",
    "weightsCenterDetect = 'pretrained/Monkey_Example/EfficientTrack_Center.pth'\n",
    "centerDetect = EfficientTrack('CenterDetectInference', cfg, weightsCenterDetect)"
   ]
  },
  {
   "cell_type": "code",
   "execution_count": null,
   "id": "5569234f",
   "metadata": {},
   "outputs": [],
   "source": [
    "#load reprojection Tools from dataset\n",
    "\n",
    "\n",
    "reproTools = load_reprojection_tools(cfg)\n",
    "print (reproTools)\n",
    "reproTool = reproTools['12Cam_Ralph']"
   ]
  },
  {
   "cell_type": "code",
   "execution_count": null,
   "id": "2323fa70",
   "metadata": {},
   "outputs": [],
   "source": [
    "#Predict poses for recording 'Example_Recording' and create labeled videos\n",
    "\n",
    "predictPosesVideos(hybridNet,\n",
    "                   centerDetect, \n",
    "                   reproTool,\n",
    "                   recording_path = 'Example_Recording', \n",
    "                   output_dir = 'PosePredictions_3D', \n",
    "                   frameStart = 0, \n",
    "                   numberFrames = -1,\n",
    "                   make_videos = True,\n",
    "                   skeletonPreset = \"Hand\")"
   ]
  }
 ],
 "metadata": {
  "kernelspec": {
   "display_name": "Python 3 (ipykernel)",
   "language": "python",
   "name": "python3"
  },
  "language_info": {
   "codemirror_mode": {
    "name": "ipython",
    "version": 3
   },
   "file_extension": ".py",
   "mimetype": "text/x-python",
   "name": "python",
   "nbconvert_exporter": "python",
   "pygments_lexer": "ipython3",
   "version": "3.8.10"
  }
 },
 "nbformat": 4,
 "nbformat_minor": 5
}
