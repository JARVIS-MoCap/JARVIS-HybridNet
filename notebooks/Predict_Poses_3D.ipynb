{
 "cells": [
  {
   "cell_type": "code",
   "execution_count": 1,
   "id": "810b7532",
   "metadata": {},
   "outputs": [
    {
     "name": "stdout",
     "output_type": "stream",
     "text": [
      "\u001b[92mSuccessfully loaded project Rat.\u001b[0m\n"
     ]
    }
   ],
   "source": [
    "import os\n",
    "import numpy as np\n",
    "import torch\n",
    "\n",
    "from jarvis.config import cfg\n",
    "from jarvis.hybridnet.hybridnet import HybridNet\n",
    "from jarvis.efficienttrack.efficienttrack import EfficientTrack\n",
    "from jarvis.config.project_manager import ProjectManager\n",
    "from jarvis.prediction.predict3D import predictPosesVideos, load_reprojection_tools\n",
    "\n",
    "project = ProjectManager()\n",
    "project.load('Rat')\n",
    "\n",
    "os.environ[\"CUDA_VISIBLE_DEVICES\"]=\"0\"\n",
    "\n",
    "cfg = project.get_cfg()"
   ]
  },
  {
   "cell_type": "code",
   "execution_count": 2,
   "id": "963b0fc5",
   "metadata": {},
   "outputs": [
    {
     "name": "stdout",
     "output_type": "stream",
     "text": [
      "[Info] loaded weights: /home/lambda2/Desktop/JARVIS-HybridNet/projects/Rat/models/HybridNet/Run_20220131-232015/HybridNet-d0_final.pth\n"
     ]
    }
   ],
   "source": [
    "#Load HybridNet in inference mode\n",
    "\n",
    "weightsHybridNet = '/home/lambda2/Desktop/JARVIS-HybridNet/projects/Rat/models/HybridNet/Run_20220131-232015/HybridNet-d0_final.pth'\n",
    "hybridNet = HybridNet('inference', cfg, weightsHybridNet)"
   ]
  },
  {
   "cell_type": "code",
   "execution_count": 3,
   "id": "2589da8e",
   "metadata": {},
   "outputs": [],
   "source": [
    "#load center detection network in inference mode\n",
    "\n",
    "weightsCenterDetect = '/home/lambda2/Desktop/JARVIS-HybridNet/projects/Rat/models/CenterDetect/Run_20220131-182258/EfficientTrack-d0_final.pth'\n",
    "centerDetect = EfficientTrack('CenterDetectInference', cfg, weightsCenterDetect)"
   ]
  },
  {
   "cell_type": "code",
   "execution_count": 5,
   "id": "a56a9759",
   "metadata": {},
   "outputs": [
    {
     "name": "stdout",
     "output_type": "stream",
     "text": [
      "{'Rat': <jarvis.dataset.utils.ReprojectionTool object at 0x7fd71c18f160>, 'Rat_Iris (copy)': <jarvis.dataset.utils.ReprojectionTool object at 0x7fd6f75e8f70>}\n"
     ]
    }
   ],
   "source": [
    "#load reprojection Tools from dataset\n",
    "\n",
    "\n",
    "reproTools = load_reprojection_tools(cfg)\n",
    "print (reproTools)\n",
    "reproTool = reproTools['Rat']"
   ]
  },
  {
   "cell_type": "code",
   "execution_count": 7,
   "id": "2323fa70",
   "metadata": {},
   "outputs": [
    {
     "name": "stdout",
     "output_type": "stream",
     "text": [
      "Output directory already exists! Override? (Y)es/(N)o\n",
      "y\n"
     ]
    },
    {
     "data": {
      "application/vnd.jupyter.widget-view+json": {
       "model_id": "5bad252f5205446c857a63bd1c69389b",
       "version_major": 2,
       "version_minor": 0
      },
      "text/plain": [
       "  0%|          | 0/12000 [00:00<?, ?it/s]"
      ]
     },
     "metadata": {},
     "output_type": "display_data"
    },
    {
     "name": "stdout",
     "output_type": "stream",
     "text": [
      "tensor([[[nan, nan, nan],\n",
      "         [nan, nan, nan],\n",
      "         [nan, nan, nan],\n",
      "         [nan, nan, nan],\n",
      "         [nan, nan, nan],\n",
      "         [nan, nan, nan],\n",
      "         [nan, nan, nan],\n",
      "         [nan, nan, nan],\n",
      "         [nan, nan, nan],\n",
      "         [nan, nan, nan],\n",
      "         [nan, nan, nan],\n",
      "         [nan, nan, nan],\n",
      "         [nan, nan, nan],\n",
      "         [nan, nan, nan],\n",
      "         [nan, nan, nan],\n",
      "         [nan, nan, nan],\n",
      "         [nan, nan, nan],\n",
      "         [nan, nan, nan],\n",
      "         [nan, nan, nan],\n",
      "         [nan, nan, nan]]], device='cuda:0')\n",
      "tensor([[[nan, nan, nan],\n",
      "         [nan, nan, nan],\n",
      "         [nan, nan, nan],\n",
      "         [nan, nan, nan],\n",
      "         [nan, nan, nan],\n",
      "         [nan, nan, nan],\n",
      "         [nan, nan, nan],\n",
      "         [nan, nan, nan],\n",
      "         [nan, nan, nan],\n",
      "         [nan, nan, nan],\n",
      "         [nan, nan, nan],\n",
      "         [nan, nan, nan],\n",
      "         [nan, nan, nan],\n",
      "         [nan, nan, nan],\n",
      "         [nan, nan, nan],\n",
      "         [nan, nan, nan],\n",
      "         [nan, nan, nan],\n",
      "         [nan, nan, nan],\n",
      "         [nan, nan, nan],\n",
      "         [nan, nan, nan]]], device='cuda:0')\n",
      "tensor([[[nan, nan, nan],\n",
      "         [nan, nan, nan],\n",
      "         [nan, nan, nan],\n",
      "         [nan, nan, nan],\n",
      "         [nan, nan, nan],\n",
      "         [nan, nan, nan],\n",
      "         [nan, nan, nan],\n",
      "         [nan, nan, nan],\n",
      "         [nan, nan, nan],\n",
      "         [nan, nan, nan],\n",
      "         [nan, nan, nan],\n",
      "         [nan, nan, nan],\n",
      "         [nan, nan, nan],\n",
      "         [nan, nan, nan],\n",
      "         [nan, nan, nan],\n",
      "         [nan, nan, nan],\n",
      "         [nan, nan, nan],\n",
      "         [nan, nan, nan],\n",
      "         [nan, nan, nan],\n",
      "         [nan, nan, nan]]], device='cuda:0')\n",
      "tensor([[[nan, nan, nan],\n",
      "         [nan, nan, nan],\n",
      "         [nan, nan, nan],\n",
      "         [nan, nan, nan],\n",
      "         [nan, nan, nan],\n",
      "         [nan, nan, nan],\n",
      "         [nan, nan, nan],\n",
      "         [nan, nan, nan],\n",
      "         [nan, nan, nan],\n",
      "         [nan, nan, nan],\n",
      "         [nan, nan, nan],\n",
      "         [nan, nan, nan],\n",
      "         [nan, nan, nan],\n",
      "         [nan, nan, nan],\n",
      "         [nan, nan, nan],\n",
      "         [nan, nan, nan],\n",
      "         [nan, nan, nan],\n",
      "         [nan, nan, nan],\n",
      "         [nan, nan, nan],\n",
      "         [nan, nan, nan]]], device='cuda:0')\n",
      "tensor([[[nan, nan, nan],\n",
      "         [nan, nan, nan],\n",
      "         [nan, nan, nan],\n",
      "         [nan, nan, nan],\n",
      "         [nan, nan, nan],\n",
      "         [nan, nan, nan],\n",
      "         [nan, nan, nan],\n",
      "         [nan, nan, nan],\n",
      "         [nan, nan, nan],\n",
      "         [nan, nan, nan],\n",
      "         [nan, nan, nan],\n",
      "         [nan, nan, nan],\n",
      "         [nan, nan, nan],\n",
      "         [nan, nan, nan],\n",
      "         [nan, nan, nan],\n",
      "         [nan, nan, nan],\n",
      "         [nan, nan, nan],\n",
      "         [nan, nan, nan],\n",
      "         [nan, nan, nan],\n",
      "         [nan, nan, nan]]], device='cuda:0')\n"
     ]
    },
    {
     "ename": "KeyboardInterrupt",
     "evalue": "",
     "output_type": "error",
     "traceback": [
      "\u001b[0;31m---------------------------------------------------------------------------\u001b[0m",
      "\u001b[0;31mKeyboardInterrupt\u001b[0m                         Traceback (most recent call last)",
      "\u001b[0;32m/tmp/ipykernel_1525598/3652291272.py\u001b[0m in \u001b[0;36m<module>\u001b[0;34m\u001b[0m\n\u001b[1;32m      1\u001b[0m \u001b[0;31m#Predict poses for recording 'Example_Recording' and create labeled videos\u001b[0m\u001b[0;34m\u001b[0m\u001b[0;34m\u001b[0m\u001b[0m\n\u001b[1;32m      2\u001b[0m \u001b[0;34m\u001b[0m\u001b[0m\n\u001b[0;32m----> 3\u001b[0;31m predictPosesVideos(hybridNet,\n\u001b[0m\u001b[1;32m      4\u001b[0m                    \u001b[0mcenterDetect\u001b[0m\u001b[0;34m,\u001b[0m\u001b[0;34m\u001b[0m\u001b[0;34m\u001b[0m\u001b[0m\n\u001b[1;32m      5\u001b[0m                    \u001b[0mreproTool\u001b[0m\u001b[0;34m,\u001b[0m\u001b[0;34m\u001b[0m\u001b[0;34m\u001b[0m\u001b[0m\n",
      "\u001b[0;32m~/Desktop/JARVIS-HybridNet/jarvis/prediction/predict3D.py\u001b[0m in \u001b[0;36mpredictPosesVideos\u001b[0;34m(hybridNet, centerDetect, reproTool, recording_path, output_dir, frameStart, numberFrames, make_videos, skeletonPreset)\u001b[0m\n\u001b[1;32m    224\u001b[0m             \u001b[0;32mif\u001b[0m \u001b[0mmake_videos\u001b[0m\u001b[0;34m:\u001b[0m\u001b[0;34m\u001b[0m\u001b[0;34m\u001b[0m\u001b[0m\n\u001b[1;32m    225\u001b[0m                 \u001b[0;32mfor\u001b[0m \u001b[0mi\u001b[0m\u001b[0;34m,\u001b[0m\u001b[0mout\u001b[0m \u001b[0;32min\u001b[0m \u001b[0menumerate\u001b[0m\u001b[0;34m(\u001b[0m\u001b[0mouts\u001b[0m\u001b[0;34m)\u001b[0m\u001b[0;34m:\u001b[0m\u001b[0;34m\u001b[0m\u001b[0;34m\u001b[0m\u001b[0m\n\u001b[0;32m--> 226\u001b[0;31m                     \u001b[0mout\u001b[0m\u001b[0;34m.\u001b[0m\u001b[0mwrite\u001b[0m\u001b[0;34m(\u001b[0m\u001b[0mimgs_orig\u001b[0m\u001b[0;34m[\u001b[0m\u001b[0mi\u001b[0m\u001b[0;34m]\u001b[0m\u001b[0;34m)\u001b[0m\u001b[0;34m\u001b[0m\u001b[0;34m\u001b[0m\u001b[0m\n\u001b[0m\u001b[1;32m    227\u001b[0m \u001b[0;34m\u001b[0m\u001b[0m\n\u001b[1;32m    228\u001b[0m         \u001b[0;32mif\u001b[0m \u001b[0mmake_videos\u001b[0m\u001b[0;34m:\u001b[0m\u001b[0;34m\u001b[0m\u001b[0;34m\u001b[0m\u001b[0m\n",
      "\u001b[0;31mKeyboardInterrupt\u001b[0m: "
     ]
    }
   ],
   "source": [
    "#Predict poses for recording 'Example_Recording' and create labeled videos\n",
    "\n",
    "predictPosesVideos(hybridNet,\n",
    "                   centerDetect, \n",
    "                   reproTool,\n",
    "                   recording_path = '/home/lambda2/Documents/Rat1', \n",
    "                   output_dir = 'PosePredictions_3D', \n",
    "                   frameStart = 0, \n",
    "                   numberFrames = 12000,\n",
    "                   make_videos = True,\n",
    "                   skeletonPreset = \"Hand\")"
   ]
  }
 ],
 "metadata": {
  "kernelspec": {
   "display_name": "Python 3 (ipykernel)",
   "language": "python",
   "name": "python3"
  },
  "language_info": {
   "codemirror_mode": {
    "name": "ipython",
    "version": 3
   },
   "file_extension": ".py",
   "mimetype": "text/x-python",
   "name": "python",
   "nbconvert_exporter": "python",
   "pygments_lexer": "ipython3",
   "version": "3.9.7"
  }
 },
 "nbformat": 4,
 "nbformat_minor": 5
}
