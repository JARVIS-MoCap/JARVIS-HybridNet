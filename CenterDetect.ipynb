{
 "cells": [
  {
   "cell_type": "code",
   "execution_count": null,
   "id": "therapeutic-limitation",
   "metadata": {},
   "outputs": [],
   "source": [
    "import numpy as np\n",
    "import torch\n",
    "import cv2\n",
    "\n",
    "from lib.config.project_manager import ProjectManager\n",
    "from lib.dataset.dataset2D import Dataset2D\n",
    "from lib.hybridnet.efficienttrack.efficienttrack import EfficientTrack\n",
    "import matplotlib.pyplot as plt\n",
    "\n",
    "project = ProjectManager()\n",
    "project.load('Example_Project')\n",
    "\n",
    "#project.create_new(\n",
    "#    name = 'DemodiagStuff',\n",
    "#    dataset2D_path = '/home/jarvis-setup/Desktop/Testtest',\n",
    "#    dataset3D_path = '/home/jarvis-setup/Desktop/Testtest')\n",
    "\n",
    "cfg = project.get_cfg()"
   ]
  },
  {
   "cell_type": "code",
   "execution_count": null,
   "id": "revised-singer",
   "metadata": {},
   "outputs": [],
   "source": [
    "#Load the training and validation sets\n",
    "\n",
    "training_set = Dataset2D(project.cfg, set='train', mode = 'CenterDetect')\n",
    "val_set = Dataset2D(project.cfg, set='val',mode = 'CenterDetect')"
   ]
  },
  {
   "cell_type": "code",
   "execution_count": null,
   "id": "incorporated-spencer",
   "metadata": {},
   "outputs": [],
   "source": [
    "#Configuring the network for training\n",
    "\n",
    "weights = 'pretrained/Monkey_Example/EfficientTrack_Center.pth'\n",
    "centerDetect = EfficientTrack('CenterDetect', cfg, weights = None)"
   ]
  },
  {
   "cell_type": "code",
   "execution_count": null,
   "id": "insured-chick",
   "metadata": {},
   "outputs": [],
   "source": [
    "#Training the network for 100 epochs\n",
    "\n",
    "centerDetect.train(training_set, val_set, 100)"
   ]
  },
  {
   "cell_type": "code",
   "execution_count": null,
   "id": "b326e7fb",
   "metadata": {},
   "outputs": [],
   "source": [
    "#Configuring the network for inference\n",
    "\n",
    "weights = \"pretrained/Monkey_Example/EfficientTrack_Center.pth\"\n",
    "centerDetect = EfficientTrack('CenterDetectInference', cfg, weights)"
   ]
  },
  {
   "cell_type": "code",
   "execution_count": null,
   "id": "665138b8",
   "metadata": {},
   "outputs": [],
   "source": [
    "#Load item from validation set and show tracking result\n",
    "item = val_set.__getitem__(12)\n",
    "imgs = item[0]\n",
    "preds, maxvals, img_vis, heatmap = centerDetect.predictCenter(imgs)\n",
    "plt.imshow(img_vis/255.)\n",
    "plt.imshow(heatmap, alpha=0.3)\n",
    "plt.show()"
   ]
  }
 ],
 "metadata": {
  "kernelspec": {
   "display_name": "Python 3 (ipykernel)",
   "language": "python",
   "name": "python3"
  },
  "language_info": {
   "codemirror_mode": {
    "name": "ipython",
    "version": 3
   },
   "file_extension": ".py",
   "mimetype": "text/x-python",
   "name": "python",
   "nbconvert_exporter": "python",
   "pygments_lexer": "ipython3",
   "version": "3.9.7"
  }
 },
 "nbformat": 4,
 "nbformat_minor": 5
}
