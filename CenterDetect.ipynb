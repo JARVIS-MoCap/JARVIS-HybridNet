{
 "cells": [
  {
   "cell_type": "code",
   "execution_count": null,
   "id": "therapeutic-limitation",
   "metadata": {},
   "outputs": [],
   "source": [
    "#import os\n",
    "import numpy as np\n",
    "import torch\n",
    "\n",
    "from lib.config.project_manager import ProjectManager\n",
    "from lib.dataset.dataset2D import Dataset2D\n",
    "from lib.hybridnet.efficienttrack.efficienttrack import EfficientTrack\n",
    "\n",
    "project = ProjectManager()\n",
    "project.load('Test_Project')\n",
    "\n",
    "#project.create_new(\n",
    "#    name = 'Test_Project2',\n",
    "#    dataset2D_path = '/home/timo/Desktop/HybridNet/datasets/Ralph_All',\n",
    "#    dataset3D_path = '/home/timo/Desktop/HybridNet/datasets/Ralph_All')\n",
    "\n",
    "cfg = project.get_cfg()"
   ]
  },
  {
   "cell_type": "code",
   "execution_count": null,
   "id": "revised-singer",
   "metadata": {},
   "outputs": [],
   "source": [
    "training_set = Dataset2D(project.cfg, set='train', mode = 'CenterDetect')\n",
    "val_set = Dataset2D(project.cfg, set='val',mode = 'CenterDetect')"
   ]
  },
  {
   "cell_type": "code",
   "execution_count": null,
   "id": "incorporated-spencer",
   "metadata": {},
   "outputs": [],
   "source": [
    "weights = '/home/timo/Desktop/HybridNet/projects/Test_Project/models/CenterDetect/Run_20211120-151850/EfficientTrack-d0_10.pth'\n",
    "\n",
    "centerDetect = EfficientTrack('CenterDetect', cfg, None)"
   ]
  },
  {
   "cell_type": "code",
   "execution_count": null,
   "id": "insured-chick",
   "metadata": {},
   "outputs": [],
   "source": [
    "centerDetect.train(training_set, val_set, 1000)"
   ]
  },
  {
   "cell_type": "code",
   "execution_count": null,
   "id": "b326e7fb",
   "metadata": {},
   "outputs": [],
   "source": [
    "import lib.hybridnet.modules.efficienttrack.darkpose as darkpose\n",
    "import cv2\n",
    "import matplotlib.pyplot as plt\n",
    "\n",
    "weights = \"/home/timo/Desktop/HybridNet/projects/Test_Project/models/CenterDetect/Run_20211120-151850/EfficientTrack-d0_10.pth\"\n",
    "\n",
    "centerDetect = EfficientTrack('CenterDetectInference', cfg, weights)"
   ]
  },
  {
   "cell_type": "code",
   "execution_count": null,
   "id": "665138b8",
   "metadata": {},
   "outputs": [],
   "source": [
    "j = 0\n",
    "item = val_set.__getitem__(j)\n",
    "j += 20\n",
    "imgs = item[0]\n",
    "print (imgs.shape)\n",
    "img = ((imgs*cfg.DATASET.STD)+cfg.DATASET.MEAN)*255\n",
    "\n",
    "imgs = torch.from_numpy(imgs).permute(2, 0, 1).float()\n",
    "\n",
    "imgs = imgs.reshape(1,3,256,320)\n",
    "imgs = imgs.cuda()\n",
    "outputs = centerDetect.model(imgs)\n",
    "preds, maxvals = darkpose.get_final_preds(outputs[1].clamp(0,255).detach().cpu().numpy(), None)\n",
    "\n",
    "print (maxvals)\n",
    "\n",
    "colors = [(255,0,0), (255,0,0),(255,0,0),(255,0,0),(0,255,0),(0,255,0),(0,255,0),(0,255,0),(0,0,255),(0,0,255),(0,0,255),(0,0,255),(255,255,0),(255,255,0),(255,255,0), (255,255,0),\n",
    "                  (0,255,255),(0,255,255),(0,255,255),(0,255,255), (255,0,255),(100,0,100),(100,0,100)]\n",
    "for i,point in enumerate(preds[0]):\n",
    "    if (maxvals[0][i]) > 10:\n",
    "        cv2.circle(img, (int(point[0]*2), int(point[1])*2), 2, (255,0,0), thickness=5)\n",
    "    else:\n",
    "        cv2.circle(img, (int(point[0]*2), int(point[1])*2), 2, (100,0,0), thickness=5)\n",
    "\n",
    "plt.imshow(img/255.)\n",
    "hetamap = cv2.resize(outputs[1].clamp(0,255).detach().cpu().numpy()[0][0]/255., (320,256), interpolation=cv2.cv2.INTER_NEAREST)\n",
    "plt.imshow(hetamap, alpha=0.4)\n",
    "plt.imsave( 'test.png',img/255.)\n",
    "#plt.savefig('test.png')"
   ]
  }
 ],
 "metadata": {
  "kernelspec": {
   "display_name": "Python 3",
   "language": "python",
   "name": "python3"
  },
  "language_info": {
   "codemirror_mode": {
    "name": "ipython",
    "version": 3
   },
   "file_extension": ".py",
   "mimetype": "text/x-python",
   "name": "python",
   "nbconvert_exporter": "python",
   "pygments_lexer": "ipython3",
   "version": "3.9.7"
  }
 },
 "nbformat": 4,
 "nbformat_minor": 5
}
