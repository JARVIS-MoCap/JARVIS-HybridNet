{
 "cells": [
  {
   "cell_type": "code",
   "execution_count": 1,
   "id": "therapeutic-limitation",
   "metadata": {},
   "outputs": [],
   "source": [
    "import os\n",
    "\n",
    "import numpy as np\n",
    "import torch\n",
    "from torch.utils.data import DataLoader\n",
    "from lib.config import cfg\n",
    "from lib.config import update_config\n",
    "\n",
    "import lib.dataset.dataset2D as dataUtils\n",
    "from lib.vortex.modules.efficienttrack.efficienttrack import EfficientTrack"
   ]
  },
  {
   "cell_type": "code",
   "execution_count": 2,
   "id": "revised-singer",
   "metadata": {},
   "outputs": [
    {
     "name": "stdout",
     "output_type": "stream",
     "text": [
      "loading annotations into memory...\n",
      "Done (t=0.04s)\n",
      "creating index...\n",
      "index created!\n",
      "loading annotations into memory...\n",
      "Done (t=0.01s)\n",
      "creating index...\n",
      "index created!\n"
     ]
    }
   ],
   "source": [
    "training_params = {'batch_size': cfg.EFFICIENTTRACK.BATCH_SIZE,\n",
    "                   'shuffle': True,\n",
    "                   'drop_last': True,\n",
    "                   'collate_fn': dataUtils.collater_keypoints,\n",
    "                   'num_workers': cfg.DATALOADER_NUM_WORKERS,\n",
    "                   'pin_memory': False}\n",
    "\n",
    "val_params = {'batch_size': cfg.EFFICIENTTRACK.BATCH_SIZE,\n",
    "              'shuffle': False,\n",
    "              'drop_last': True,\n",
    "              'collate_fn': dataUtils.collater_keypoints,\n",
    "              'num_workers': cfg.DATALOADER_NUM_WORKERS,\n",
    "              'pin_memory': False}\n",
    "\n",
    "training_set = dataUtils.VortexDataset(cfg, set='train', mode = 'keypoints')\n",
    "val_set = dataUtils.VortexDataset(cfg, set='val',mode = 'keypoints')\n",
    "\n",
    "training_generator = DataLoader(training_set, **training_params)\n",
    "val_generator = DataLoader(val_set, **val_params)"
   ]
  },
  {
   "cell_type": "code",
   "execution_count": 3,
   "id": "incorporated-spencer",
   "metadata": {},
   "outputs": [
    {
     "name": "stdout",
     "output_type": "stream",
     "text": [
      "[Warning] Ignoring Error(s) in loading state_dict for EfficientTrackBackbone:\n",
      "\tMissing key(s) in state_dict: \"bifpn.0.conv4_up.conv.weight\", \"bifpn.0.conv4_up.conv.bias\", \"bifpn.0.conv3_up.conv.weight\", \"bifpn.0.conv3_up.conv.bias\", \"bifpn.0.conv4_down.conv.weight\", \"bifpn.0.conv4_down.conv.bias\", \"bifpn.1.conv4_up.conv.weight\", \"bifpn.1.conv4_up.conv.bias\", \"bifpn.1.conv3_up.conv.weight\", \"bifpn.1.conv3_up.conv.bias\", \"bifpn.1.conv4_down.conv.weight\", \"bifpn.1.conv4_down.conv.bias\", \"bifpn.2.conv4_up.conv.weight\", \"bifpn.2.conv4_up.conv.bias\", \"bifpn.2.conv3_up.conv.weight\", \"bifpn.2.conv3_up.conv.bias\", \"bifpn.2.conv4_down.conv.weight\", \"bifpn.2.conv4_down.conv.bias\", \"bifpn.3.conv4_up.conv.weight\", \"bifpn.3.conv4_up.conv.bias\", \"bifpn.3.conv3_up.conv.weight\", \"bifpn.3.conv3_up.conv.bias\", \"bifpn.3.conv4_down.conv.weight\", \"bifpn.3.conv4_down.conv.bias\", \"bifpn.4.conv4_up.conv.weight\", \"bifpn.4.conv4_up.conv.bias\", \"bifpn.4.conv3_up.conv.weight\", \"bifpn.4.conv3_up.conv.bias\", \"bifpn.4.conv4_down.conv.weight\", \"bifpn.4.conv4_down.conv.bias\", \"bifpn.5.conv4_up.conv.weight\", \"bifpn.5.conv4_up.conv.bias\", \"bifpn.5.conv3_up.conv.weight\", \"bifpn.5.conv3_up.conv.bias\", \"bifpn.5.conv4_down.conv.weight\", \"bifpn.5.conv4_down.conv.bias\", \"bifpn.6.conv4_up.conv.weight\", \"bifpn.6.conv4_up.conv.bias\", \"bifpn.6.conv3_up.conv.weight\", \"bifpn.6.conv3_up.conv.bias\", \"bifpn.6.conv4_down.conv.weight\", \"bifpn.6.conv4_down.conv.bias\". \n",
      "\tUnexpected key(s) in state_dict: \"bifpn.0.conv4_up.depthwise_conv.weight\", \"bifpn.0.conv4_up.pointwise_conv.weight\", \"bifpn.0.conv4_up.pointwise_conv.bias\", \"bifpn.0.conv3_up.depthwise_conv.weight\", \"bifpn.0.conv3_up.pointwise_conv.weight\", \"bifpn.0.conv3_up.pointwise_conv.bias\", \"bifpn.0.conv4_down.depthwise_conv.weight\", \"bifpn.0.conv4_down.pointwise_conv.weight\", \"bifpn.0.conv4_down.pointwise_conv.bias\", \"bifpn.1.conv4_up.depthwise_conv.weight\", \"bifpn.1.conv4_up.pointwise_conv.weight\", \"bifpn.1.conv4_up.pointwise_conv.bias\", \"bifpn.1.conv3_up.depthwise_conv.weight\", \"bifpn.1.conv3_up.pointwise_conv.weight\", \"bifpn.1.conv3_up.pointwise_conv.bias\", \"bifpn.1.conv4_down.depthwise_conv.weight\", \"bifpn.1.conv4_down.pointwise_conv.weight\", \"bifpn.1.conv4_down.pointwise_conv.bias\", \"bifpn.2.conv4_up.depthwise_conv.weight\", \"bifpn.2.conv4_up.pointwise_conv.weight\", \"bifpn.2.conv4_up.pointwise_conv.bias\", \"bifpn.2.conv3_up.depthwise_conv.weight\", \"bifpn.2.conv3_up.pointwise_conv.weight\", \"bifpn.2.conv3_up.pointwise_conv.bias\", \"bifpn.2.conv4_down.depthwise_conv.weight\", \"bifpn.2.conv4_down.pointwise_conv.weight\", \"bifpn.2.conv4_down.pointwise_conv.bias\", \"bifpn.3.conv4_up.depthwise_conv.weight\", \"bifpn.3.conv4_up.pointwise_conv.weight\", \"bifpn.3.conv4_up.pointwise_conv.bias\", \"bifpn.3.conv3_up.depthwise_conv.weight\", \"bifpn.3.conv3_up.pointwise_conv.weight\", \"bifpn.3.conv3_up.pointwise_conv.bias\", \"bifpn.3.conv4_down.depthwise_conv.weight\", \"bifpn.3.conv4_down.pointwise_conv.weight\", \"bifpn.3.conv4_down.pointwise_conv.bias\", \"bifpn.4.conv4_up.depthwise_conv.weight\", \"bifpn.4.conv4_up.pointwise_conv.weight\", \"bifpn.4.conv4_up.pointwise_conv.bias\", \"bifpn.4.conv3_up.depthwise_conv.weight\", \"bifpn.4.conv3_up.pointwise_conv.weight\", \"bifpn.4.conv3_up.pointwise_conv.bias\", \"bifpn.4.conv4_down.depthwise_conv.weight\", \"bifpn.4.conv4_down.pointwise_conv.weight\", \"bifpn.4.conv4_down.pointwise_conv.bias\", \"bifpn.5.conv4_up.depthwise_conv.weight\", \"bifpn.5.conv4_up.pointwise_conv.weight\", \"bifpn.5.conv4_up.pointwise_conv.bias\", \"bifpn.5.conv3_up.depthwise_conv.weight\", \"bifpn.5.conv3_up.pointwise_conv.weight\", \"bifpn.5.conv3_up.pointwise_conv.bias\", \"bifpn.5.conv4_down.depthwise_conv.weight\", \"bifpn.5.conv4_down.pointwise_conv.weight\", \"bifpn.5.conv4_down.pointwise_conv.bias\", \"bifpn.6.conv4_up.depthwise_conv.weight\", \"bifpn.6.conv4_up.pointwise_conv.weight\", \"bifpn.6.conv4_up.pointwise_conv.bias\", \"bifpn.6.conv3_up.depthwise_conv.weight\", \"bifpn.6.conv3_up.pointwise_conv.weight\", \"bifpn.6.conv3_up.pointwise_conv.bias\", \"bifpn.6.conv4_down.depthwise_conv.weight\", \"bifpn.6.conv4_down.pointwise_conv.weight\", \"bifpn.6.conv4_down.pointwise_conv.bias\". \n",
      "[Warning] Don't panic if you see this, this might be because you load a pretrained weights with different number of classes. The rest of the weights should be loaded already.\n",
      "[Info] loaded weights: EfficientTrack-d3_80_171153.pth, resuming checkpoint from step: 171153\n"
     ]
    }
   ],
   "source": [
    "weights = '/home/trackingsetup/Documents/Vortex/projects/handPose_test/efficienttrack/models/Colleen_d2_Run2/EfficientTrack-d3_80_171153.pth'\n",
    "\n",
    "efficientTrack = EfficientTrack('train', cfg, weights)"
   ]
  },
  {
   "cell_type": "code",
   "execution_count": 4,
   "id": "insured-chick",
   "metadata": {},
   "outputs": [
    {
     "data": {
      "application/vnd.jupyter.widget-view+json": {
       "model_id": "954cf6377f814000b5b43bed542bead2",
       "version_major": 2,
       "version_minor": 0
      },
      "text/plain": [
       "  0%|          | 0/852 [00:00<?, ?it/s]"
      ]
     },
     "metadata": {},
     "output_type": "display_data"
    },
    {
     "ename": "KeyboardInterrupt",
     "evalue": "",
     "output_type": "error",
     "traceback": [
      "\u001b[0;31m---------------------------------------------------------------------------\u001b[0m",
      "\u001b[0;31mKeyboardInterrupt\u001b[0m                         Traceback (most recent call last)",
      "\u001b[0;32m<ipython-input-4-ea0dede353de>\u001b[0m in \u001b[0;36m<module>\u001b[0;34m\u001b[0m\n\u001b[0;32m----> 1\u001b[0;31m \u001b[0mefficientTrack\u001b[0m\u001b[0;34m.\u001b[0m\u001b[0mtrain\u001b[0m\u001b[0;34m(\u001b[0m\u001b[0mtraining_generator\u001b[0m\u001b[0;34m,\u001b[0m \u001b[0mval_generator\u001b[0m\u001b[0;34m,\u001b[0m \u001b[0;36m1000\u001b[0m\u001b[0;34m)\u001b[0m\u001b[0;34m\u001b[0m\u001b[0;34m\u001b[0m\u001b[0m\n\u001b[0m",
      "\u001b[0;32m~/Documents/Vortex/lib/vortex/modules/efficienttrack/efficienttrack.py\u001b[0m in \u001b[0;36mtrain\u001b[0;34m(self, training_generator, val_generator, num_epochs, start_epoch)\u001b[0m\n\u001b[1;32m    156\u001b[0m                         \u001b[0mloss\u001b[0m \u001b[0;34m=\u001b[0m \u001b[0mloss\u001b[0m \u001b[0;34m+\u001b[0m \u001b[0mheatmaps_loss\u001b[0m\u001b[0;34m\u001b[0m\u001b[0;34m\u001b[0m\u001b[0m\n\u001b[1;32m    157\u001b[0m \u001b[0;34m\u001b[0m\u001b[0m\n\u001b[0;32m--> 158\u001b[0;31m                 \u001b[0mscaler\u001b[0m\u001b[0;34m.\u001b[0m\u001b[0mscale\u001b[0m\u001b[0;34m(\u001b[0m\u001b[0mloss\u001b[0m\u001b[0;34m)\u001b[0m\u001b[0;34m.\u001b[0m\u001b[0mbackward\u001b[0m\u001b[0;34m(\u001b[0m\u001b[0;34m)\u001b[0m\u001b[0;34m\u001b[0m\u001b[0;34m\u001b[0m\u001b[0m\n\u001b[0m\u001b[1;32m    159\u001b[0m                 \u001b[0;31m#self.optimizer.step()\u001b[0m\u001b[0;34m\u001b[0m\u001b[0;34m\u001b[0m\u001b[0;34m\u001b[0m\u001b[0m\n\u001b[1;32m    160\u001b[0m                 \u001b[0mscaler\u001b[0m\u001b[0;34m.\u001b[0m\u001b[0mstep\u001b[0m\u001b[0;34m(\u001b[0m\u001b[0mself\u001b[0m\u001b[0;34m.\u001b[0m\u001b[0moptimizer\u001b[0m\u001b[0;34m)\u001b[0m\u001b[0;34m\u001b[0m\u001b[0;34m\u001b[0m\u001b[0m\n",
      "\u001b[0;32m~/anaconda3/envs/pytorch/lib/python3.9/site-packages/torch/tensor.py\u001b[0m in \u001b[0;36mbackward\u001b[0;34m(self, gradient, retain_graph, create_graph, inputs)\u001b[0m\n\u001b[1;32m    243\u001b[0m                 \u001b[0mcreate_graph\u001b[0m\u001b[0;34m=\u001b[0m\u001b[0mcreate_graph\u001b[0m\u001b[0;34m,\u001b[0m\u001b[0;34m\u001b[0m\u001b[0;34m\u001b[0m\u001b[0m\n\u001b[1;32m    244\u001b[0m                 inputs=inputs)\n\u001b[0;32m--> 245\u001b[0;31m         \u001b[0mtorch\u001b[0m\u001b[0;34m.\u001b[0m\u001b[0mautograd\u001b[0m\u001b[0;34m.\u001b[0m\u001b[0mbackward\u001b[0m\u001b[0;34m(\u001b[0m\u001b[0mself\u001b[0m\u001b[0;34m,\u001b[0m \u001b[0mgradient\u001b[0m\u001b[0;34m,\u001b[0m \u001b[0mretain_graph\u001b[0m\u001b[0;34m,\u001b[0m \u001b[0mcreate_graph\u001b[0m\u001b[0;34m,\u001b[0m \u001b[0minputs\u001b[0m\u001b[0;34m=\u001b[0m\u001b[0minputs\u001b[0m\u001b[0;34m)\u001b[0m\u001b[0;34m\u001b[0m\u001b[0;34m\u001b[0m\u001b[0m\n\u001b[0m\u001b[1;32m    246\u001b[0m \u001b[0;34m\u001b[0m\u001b[0m\n\u001b[1;32m    247\u001b[0m     \u001b[0;32mdef\u001b[0m \u001b[0mregister_hook\u001b[0m\u001b[0;34m(\u001b[0m\u001b[0mself\u001b[0m\u001b[0;34m,\u001b[0m \u001b[0mhook\u001b[0m\u001b[0;34m)\u001b[0m\u001b[0;34m:\u001b[0m\u001b[0;34m\u001b[0m\u001b[0;34m\u001b[0m\u001b[0m\n",
      "\u001b[0;32m~/anaconda3/envs/pytorch/lib/python3.9/site-packages/torch/autograd/__init__.py\u001b[0m in \u001b[0;36mbackward\u001b[0;34m(tensors, grad_tensors, retain_graph, create_graph, grad_variables, inputs)\u001b[0m\n\u001b[1;32m    143\u001b[0m         \u001b[0mretain_graph\u001b[0m \u001b[0;34m=\u001b[0m \u001b[0mcreate_graph\u001b[0m\u001b[0;34m\u001b[0m\u001b[0;34m\u001b[0m\u001b[0m\n\u001b[1;32m    144\u001b[0m \u001b[0;34m\u001b[0m\u001b[0m\n\u001b[0;32m--> 145\u001b[0;31m     Variable._execution_engine.run_backward(\n\u001b[0m\u001b[1;32m    146\u001b[0m         \u001b[0mtensors\u001b[0m\u001b[0;34m,\u001b[0m \u001b[0mgrad_tensors_\u001b[0m\u001b[0;34m,\u001b[0m \u001b[0mretain_graph\u001b[0m\u001b[0;34m,\u001b[0m \u001b[0mcreate_graph\u001b[0m\u001b[0;34m,\u001b[0m \u001b[0minputs\u001b[0m\u001b[0;34m,\u001b[0m\u001b[0;34m\u001b[0m\u001b[0;34m\u001b[0m\u001b[0m\n\u001b[1;32m    147\u001b[0m         allow_unreachable=True, accumulate_grad=True)  # allow_unreachable flag\n",
      "\u001b[0;31mKeyboardInterrupt\u001b[0m: "
     ]
    }
   ],
   "source": [
    "efficientTrack.train(training_generator, val_generator, 1000)"
   ]
  }
 ],
 "metadata": {
  "kernelspec": {
   "display_name": "Python 3",
   "language": "python",
   "name": "python3"
  },
  "language_info": {
   "codemirror_mode": {
    "name": "ipython",
    "version": 3
   },
   "file_extension": ".py",
   "mimetype": "text/x-python",
   "name": "python",
   "nbconvert_exporter": "python",
   "pygments_lexer": "ipython3",
   "version": "3.9.4"
  }
 },
 "nbformat": 4,
 "nbformat_minor": 5
}
