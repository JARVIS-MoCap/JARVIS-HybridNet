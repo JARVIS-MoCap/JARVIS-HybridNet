{
 "cells": [
  {
   "cell_type": "code",
   "execution_count": null,
   "id": "therapeutic-limitation",
   "metadata": {},
   "outputs": [],
   "source": [
    "import os\n",
    "\n",
    "import numpy as np\n",
    "import torch\n",
    "\n",
    "import lib.dataset.dataset2D as dataUtils\n",
    "from lib.dataset.dataset2D import Dataset2D\n",
    "from lib.hybridnet.modules.efficienttrack.efficienttrack import EfficientTrack\n",
    "\n",
    "from lib.config.project_manager import ProjectManager\n",
    "\n",
    "project = ProjectManager()\n",
    "project.load('Face_Pretrain')\n",
    "\n",
    "#project.create_new(\n",
    "#    name = 'Face_Pretrain',\n",
    "#    dataset2D_path = '/home/trackingsetup/Documents/Vortex/datasets/WFLW_Set',\n",
    "#    dataset3D_path = None)\n",
    "\n",
    "cfg = project.get_cfg()"
   ]
  },
  {
   "cell_type": "code",
   "execution_count": null,
   "id": "revised-singer",
   "metadata": {},
   "outputs": [],
   "source": [
    "training_set = Dataset2D(project.cfg, set='train', mode = 'keypoints')\n",
    "val_set = Dataset2D(project.cfg, set='val',mode = 'keypoints')"
   ]
  },
  {
   "cell_type": "code",
   "execution_count": null,
   "id": "incorporated-spencer",
   "metadata": {},
   "outputs": [],
   "source": [
    "weights = '/home/trackingsetup/Downloads/EfficientTrack-d2_100.pth'\n",
    "\n",
    "efficientTrack = EfficientTrack('train', cfg, None)"
   ]
  },
  {
   "cell_type": "code",
   "execution_count": null,
   "id": "insured-chick",
   "metadata": {},
   "outputs": [],
   "source": [
    "efficientTrack.train(training_set, val_set, 1000)"
   ]
  },
  {
   "cell_type": "code",
   "execution_count": null,
   "id": "b326e7fb",
   "metadata": {},
   "outputs": [],
   "source": [
    "import lib.hybridnet.modules.efficienttrack.darkpose as darkpose\n",
    "import cv2\n",
    "import matplotlib.pyplot as plt\n",
    "\n",
    "weights = \"/home/trackingsetup/Documents/Vortex/projects/Face_Pretrain/models/efficienttrack/Run_20211012-171722/EfficientTrack-d3_370.pth\"\n",
    "\n",
    "efficientTrack = EfficientTrack('inference', cfg, weights)"
   ]
  },
  {
   "cell_type": "code",
   "execution_count": null,
   "id": "665138b8",
   "metadata": {},
   "outputs": [],
   "source": [
    "item = val_set.__getitem__(j)\n",
    "j += 1\n",
    "imgs = item[0]\n",
    "img = ((imgs*cfg.DATASET.STD)+cfg.DATASET.MEAN)*255\n",
    "\n",
    "imgs = torch.from_numpy(imgs).permute(2, 0, 1).float()\n",
    "\n",
    "imgs = imgs.reshape(1,3,320,320)\n",
    "imgs = imgs.cuda()\n",
    "outputs = efficientTrack.model(imgs)\n",
    "preds, maxvals = darkpose.get_final_preds(outputs[1].clamp(0,255).detach().cpu().numpy(), None)\n",
    "\n",
    "print (maxvals)\n",
    "\n",
    "colors = [(255,0,0), (255,0,0),(255,0,0),(255,0,0),(0,255,0),(0,255,0),(0,255,0),(0,255,0),(0,0,255),(0,0,255),(0,0,255),(0,0,255),(255,255,0),(255,255,0),(255,255,0), (255,255,0),\n",
    "                  (0,255,255),(0,255,255),(0,255,255),(0,255,255), (255,0,255),(100,0,100),(100,0,100)]\n",
    "for i,point in enumerate(preds[0]):\n",
    "    if (maxvals[0][i]) > 10:\n",
    "        cv2.circle(img, (int(point[0]*2), int(point[1])*2), 2, (255,100,100), thickness=5)\n",
    "    else:\n",
    "        cv2.circle(img, (int(point[0]*2), int(point[1])*2), 2, (100,100,100), thickness=5)\n",
    "\n",
    "plt.imshow(img/255.)\n",
    "#hetamap = cv2.resize(outputs[1].clamp(0,255).detach().cpu().numpy()[0][12]/255., (256,256), interpolation=cv2.cv2.INTER_NEAREST)\n",
    "#plt.imshow(hetamap, alpha=0.6)\n",
    "plt.imsave( 'test.png',img/255.)\n",
    "#plt.savefig('test.png')"
   ]
  }
 ],
 "metadata": {
  "kernelspec": {
   "display_name": "Python 3",
   "language": "python",
   "name": "python3"
  },
  "language_info": {
   "codemirror_mode": {
    "name": "ipython",
    "version": 3
   },
   "file_extension": ".py",
   "mimetype": "text/x-python",
   "name": "python",
   "nbconvert_exporter": "python",
   "pygments_lexer": "ipython3",
   "version": "3.9.4"
  }
 },
 "nbformat": 4,
 "nbformat_minor": 5
}
