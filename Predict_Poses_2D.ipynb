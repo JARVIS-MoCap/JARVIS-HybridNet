{
 "cells": [
  {
   "cell_type": "code",
   "execution_count": null,
   "id": "187f70ce",
   "metadata": {},
   "outputs": [],
   "source": [
    "import os\n",
    "\n",
    "import numpy as np\n",
    "import torch\n",
    "from lib.config import cfg\n",
    "\n",
    "import lib.dataset.dataset2D as dataUtils\n",
    "from lib.hybridnet.efficienttrack.efficienttrack import EfficientTrack\n",
    "import lib.hybridnet.efficienttrack.darkpose as darkpose\n",
    "from lib.config.project_manager import ProjectManager\n",
    "\n",
    "project = ProjectManager()\n",
    "project.load('Example_Project')\n",
    "\n",
    "import os\n",
    "os.environ[\"CUDA_VISIBLE_DEVICES\"]=\"1\"\n",
    "\n",
    "cfg = project.get_cfg()"
   ]
  },
  {
   "cell_type": "code",
   "execution_count": null,
   "id": "77d8b1e1",
   "metadata": {},
   "outputs": [],
   "source": [
    "#Load datasets... currently still needed because they contain camera parameters etc\n",
    "\n",
    "training_set = dataUtils.Dataset2D(cfg, set='train')\n",
    "val_set = dataUtils.Dataset2D(cfg, set='val')"
   ]
  },
  {
   "cell_type": "code",
   "execution_count": null,
   "id": "e31829a8",
   "metadata": {},
   "outputs": [],
   "source": [
    "#Load HybridNet in inference mode\n",
    "\n",
    "weightsKeypointDetect = 'pretrained/Monkey_Example/EfficientTrack_Keypoints.pth'\n",
    "\n",
    "keypointDetect = EfficientTrack('KeypointDetectInference', cfg, weightsKeypointDetect)"
   ]
  },
  {
   "cell_type": "code",
   "execution_count": null,
   "id": "427f6b4d",
   "metadata": {},
   "outputs": [],
   "source": [
    "#load center detection network in inference mode\n",
    "\n",
    "weightsCenterDetect = 'pretrained/Monkey_Example/EfficientTrack_Center.pth'\n",
    "centerDetect = EfficientTrack('CenterDetectInference', cfg, weightsCenterDetect)"
   ]
  },
  {
   "cell_type": "code",
   "execution_count": null,
   "id": "e3e9dfcd",
   "metadata": {},
   "outputs": [],
   "source": [
    "#Predict poses for recording and create labeled videos\n",
    "#set 'skeletonPreset = None' for default colormap and no skeleton\n",
    "#you might see some wrong predictions using the example data, \n",
    "#this is due to the videos being used being compressed after training and shouldn't happen with your data\n",
    "\n",
    "video_path = 'Example_Recording/Camera_LBB.mp4'\n",
    "\n",
    "keypointDetect.predictPosesVideos(centerDetect,video_path, 'PosePredictions', \n",
    "                             frameStart = 0, numberFrames = -1, skeletonPreset = \"Hand\")"
   ]
  }
 ],
 "metadata": {
  "kernelspec": {
   "display_name": "Python 3 (ipykernel)",
   "language": "python",
   "name": "python3"
  },
  "language_info": {
   "codemirror_mode": {
    "name": "ipython",
    "version": 3
   },
   "file_extension": ".py",
   "mimetype": "text/x-python",
   "name": "python",
   "nbconvert_exporter": "python",
   "pygments_lexer": "ipython3",
   "version": "3.8.10"
  }
 },
 "nbformat": 4,
 "nbformat_minor": 5
}
