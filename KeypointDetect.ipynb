{
 "cells": [
  {
   "cell_type": "code",
   "execution_count": null,
   "id": "02b44d33",
   "metadata": {},
   "outputs": [],
   "source": [
    "import numpy as np\n",
    "import torch\n",
    "import cv2\n",
    "import matplotlib.pyplot as plt\n",
    "\n",
    "from jarvis.config.project_manager import ProjectManager\n",
    "from jarvis.dataset.dataset2D import Dataset2D\n",
    "from jarvis.efficienttrack.efficienttrack import EfficientTrack\n",
    "\n",
    "project = ProjectManager()\n",
    "project.load('Example_Project')\n",
    "\n",
    "#project.create_new(\n",
    "#    name = 'Example_Project',\n",
    "#    dataset2D_path = 'Example_Dataset',\n",
    "#    dataset3D_path = 'Example_Dataset')\n",
    "\n",
    "cfg = project.get_cfg()"
   ]
  },
  {
   "cell_type": "code",
   "execution_count": null,
   "id": "c64f1d32",
   "metadata": {},
   "outputs": [],
   "source": [
    "#Load the training and validation sets\n",
    "\n",
    "training_set = Dataset2D(project.cfg, set='train', mode = 'KeypointDetect')\n",
    "val_set = Dataset2D(project.cfg, set='val',mode = 'KeypointDetect')"
   ]
  },
  {
   "cell_type": "code",
   "execution_count": null,
   "id": "f72a440c",
   "metadata": {},
   "outputs": [],
   "source": [
    "#Configuring the network for training\n",
    "\n",
    "weights = 'pretrained/Monkey_Example/EfficientTrack_Keypoints.pth'\n",
    "keypointDetect = EfficientTrack('KeypointDetect', cfg, None)\n",
    "#keypointDetect.load_lates_weights()"
   ]
  },
  {
   "cell_type": "code",
   "execution_count": null,
   "id": "8db14262",
   "metadata": {},
   "outputs": [],
   "source": [
    "#Training the network for 100 epochs\n",
    "\n",
    "keypointDetect.train(training_set, val_set, 6)"
   ]
  },
  {
   "cell_type": "code",
   "execution_count": null,
   "id": "e0870168",
   "metadata": {},
   "outputs": [],
   "source": [
    "#Configuring the network for inferenct\n",
    "\n",
    "weights = 'pretrained/Monkey_Example/EfficientTrack_Keypoints.pth'\n",
    "keypointDetect = EfficientTrack('KeypointDetectInference', cfg, weights)\n",
    "validationSetIndex = 0"
   ]
  },
  {
   "cell_type": "code",
   "execution_count": null,
   "id": "b18946e2",
   "metadata": {},
   "outputs": [],
   "source": [
    "#Load item from validation set and show tracking result\n",
    "validationSetIndex += 1\n",
    "item = val_set.__getitem__(validationSetIndex)\n",
    "imgs = item[0]\n",
    "preds, confidence, img_vis = keypointDetect.predictKeypoints(imgs)\n",
    "plt.imshow(img_vis/255.)\n",
    "plt.show()"
   ]
  }
 ],
 "metadata": {
  "kernelspec": {
   "display_name": "Python 3 (ipykernel)",
   "language": "python",
   "name": "python3"
  },
  "language_info": {
   "codemirror_mode": {
    "name": "ipython",
    "version": 3
   },
   "file_extension": ".py",
   "mimetype": "text/x-python",
   "name": "python",
   "nbconvert_exporter": "python",
   "pygments_lexer": "ipython3",
   "version": "3.9.7"
  }
 },
 "nbformat": 4,
 "nbformat_minor": 5
}
