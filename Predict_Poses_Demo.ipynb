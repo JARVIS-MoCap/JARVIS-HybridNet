{
 "cells": [
  {
   "cell_type": "code",
   "execution_count": 1,
   "id": "therapeutic-limitation",
   "metadata": {},
   "outputs": [
    {
     "name": "stdout",
     "output_type": "stream",
     "text": [
      "Successfully loaded project Example_Project!\n"
     ]
    }
   ],
   "source": [
    "import os\n",
    "\n",
    "import numpy as np\n",
    "import torch\n",
    "from lib.config import cfg\n",
    "\n",
    "import lib.dataset.dataset3D as dataUtils\n",
    "from lib.hybridnet.hybridnet import HybridNet\n",
    "from lib.hybridnet.efficienttrack.efficienttrack import EfficientTrack\n",
    "import lib.hybridnet.efficienttrack.darkpose as darkpose\n",
    "from lib.config.project_manager import ProjectManager\n",
    "\n",
    "project = ProjectManager()\n",
    "project.load('Example_Project')\n",
    "\n",
    "cfg = project.get_cfg()"
   ]
  },
  {
   "cell_type": "code",
   "execution_count": 2,
   "id": "revised-singer",
   "metadata": {},
   "outputs": [
    {
     "name": "stdout",
     "output_type": "stream",
     "text": [
      "loading annotations into memory...\n",
      "Done (t=0.02s)\n",
      "creating index...\n",
      "index created!\n",
      "loading annotations into memory...\n",
      "Done (t=0.00s)\n",
      "creating index...\n",
      "index created!\n"
     ]
    }
   ],
   "source": [
    "#Load datasets... currently still needed because they contain camera parameters etc\n",
    "\n",
    "training_set = dataUtils.Dataset3D(cfg, set='train')\n",
    "val_set = dataUtils.Dataset3D(cfg, set='val')"
   ]
  },
  {
   "cell_type": "code",
   "execution_count": 3,
   "id": "serial-trunk",
   "metadata": {},
   "outputs": [
    {
     "name": "stdout",
     "output_type": "stream",
     "text": [
      "[Info] loaded weights: HybridNet.pth\n"
     ]
    }
   ],
   "source": [
    "#Load HybridNet in inference mode\n",
    "\n",
    "weightsHybridNet = 'pretrained/Monkey_Example/HybridNet.pth'\n",
    "hybridNet = HybridNet('inference', cfg, weightsHybridNet)"
   ]
  },
  {
   "cell_type": "code",
   "execution_count": 4,
   "id": "featured-newton",
   "metadata": {},
   "outputs": [],
   "source": [
    "#load center detection network in inference mode\n",
    "\n",
    "weightsCenterDetect = 'pretrained/Monkey_Example/EfficientTrack_Center.pth'\n",
    "centerDetect = EfficientTrack('CenterDetectInference', cfg, weightsCenterDetect)"
   ]
  },
  {
   "cell_type": "code",
   "execution_count": null,
   "id": "77979450",
   "metadata": {},
   "outputs": [
    {
     "name": "stdout",
     "output_type": "stream",
     "text": [
      "Analysing Frame  0\n",
      "Analysing Frame  100\n",
      "Analysing Frame  200\n",
      "Analysing Frame  300\n",
      "Analysing Frame  400\n",
      "Analysing Frame  500\n",
      "Analysing Frame  600\n",
      "Analysing Frame  700\n",
      "Analysing Frame  800\n",
      "Analysing Frame  900\n",
      "Analysing Frame  1000\n",
      "Analysing Frame  1100\n",
      "Analysing Frame  1200\n",
      "Analysing Frame  1300\n",
      "Analysing Frame  1400\n",
      "Analysing Frame  1500\n",
      "Analysing Frame  1600\n",
      "Analysing Frame  1700\n"
     ]
    }
   ],
   "source": [
    "#Predict poses for recording and create labeled videos\n",
    "\n",
    "video_paths = [\n",
    "    'Example_Recording/Camera_B.mp4',\n",
    "    'Example_Recording/Camera_LBB.mp4',\n",
    "    'Example_Recording/Camera_LBT.mp4',\n",
    "    'Example_Recording/Camera_LC.mp4',\n",
    "    'Example_Recording/Camera_LFB.mp4',\n",
    "    'Example_Recording/Camera_LFT.mp4',\n",
    "    'Example_Recording/Camera_RBB.mp4',\n",
    "    'Example_Recording/Camera_RBT.mp4',\n",
    "    'Example_Recording/Camera_RC.mp4',\n",
    "    'Example_Recording/Camera_RFB.mp4',\n",
    "    'Example_Recording/Camera_RFT.mp4',\n",
    "    'Example_Recording/Camera_T.mp4', \n",
    "]\n",
    "\n",
    "reproTool = val_set.reproTool\n",
    "cameraMatrices = val_set.cameraMatrices\n",
    "hybridNet.predictPosesVideos(centerDetect, reproTool, cameraMatrices,video_paths, 'PosePredictions', \n",
    "                             frameStart = 0, frameEnd = 10000)"
   ]
  }
 ],
 "metadata": {
  "kernelspec": {
   "display_name": "Python 3 (ipykernel)",
   "language": "python",
   "name": "python3"
  },
  "language_info": {
   "codemirror_mode": {
    "name": "ipython",
    "version": 3
   },
   "file_extension": ".py",
   "mimetype": "text/x-python",
   "name": "python",
   "nbconvert_exporter": "python",
   "pygments_lexer": "ipython3",
   "version": "3.9.7"
  }
 },
 "nbformat": 4,
 "nbformat_minor": 5
}
